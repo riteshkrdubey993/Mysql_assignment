{
 "cells": [
  {
   "cell_type": "markdown",
   "id": "4f4e1daf-cdbc-4ac0-893e-5db5511ea304",
   "metadata": {},
   "source": [
    "Q1. What is a database? Differentiate between SQL and NoSQL databases."
   ]
  },
  {
   "cell_type": "raw",
   "id": "58c81b85-7584-49ee-9d0b-8b9cd04f060d",
   "metadata": {},
   "source": [
    "A database is an organized collection of structured data that is stored and managed in a way that enables efficient retrieval, updating, and manipulation of the data. Databases are designed to provide a systematic and efficient method for storing, managing, and retrieving data for various applications and use cases. They serve as a central repository for storing and organizing data, allowing multiple users or applications to access and modify the data concurrently.\n",
    "\n",
    "SQL (Structured Query Language) and NoSQL (Not Only SQL) are two different types of database management systems that differ in their data models, storage architectures, and query languages. Here's a comparison between the two:\n",
    "\n",
    "SQL:\n",
    "1. SQL databases are based on the relational data model. Data is organized into tables with predefined schemas, and relationships between tables are established using primary and foreign keys.\n",
    "2. SQL databases enforce a rigid schema where the structure of the data is predefined. Changes to the schema require altering the table structure and may involve data migration.\n",
    "3. SQL databases are typically vertically scalable, meaning they can handle increased loads by increasing the hardware resources (e.g., CPU, RAM) of a single server.\n",
    "4. SQL databases use SQL as the query language, which provides a declarative and standardized way to query and manipulate the data.\n",
    "5. SQL databases offer ACID (Atomicity, Consistency, Isolation, Durability) transactions, ensuring data integrity and consistency.\n",
    "\n",
    "NoSQL:\n",
    "1. NoSQL databases support various data models such as key-value, document, columnar, and graph. They provide more flexibility in handling unstructured and semi-structured data.\n",
    "2. NoSQL databases are schema-flexible, allowing dynamic and ad-hoc changes to the data structure without requiring a predefined schema.\n",
    "3. NoSQL databases are designed for horizontal scalability, allowing data to be distributed across multiple servers or nodes, enabling better scalability and handling of large-scale data.\n",
    "4. NoSQL databases employ various query languages or APIs specific to their data models. The query languages may not be as standardized as SQL.\n",
    "5. NoSQL databases often sacrifice strict ACID properties in favor of performance and scalability. They may offer eventual consistency or relaxed transactional guarantees."
   ]
  },
  {
   "cell_type": "markdown",
   "id": "41f10470-d9a5-4535-9213-abbbf6dff9a3",
   "metadata": {},
   "source": [
    "Q2. What is DDL? Explain why CREATE, DROP, ALTER, and TRUNCATE are used with an example."
   ]
  },
  {
   "cell_type": "raw",
   "id": "66863fb5-1405-4a6c-bbba-a852c64eb8a3",
   "metadata": {},
   "source": [
    "DDL stands for Data Definition Language. It is a subset of SQL (Structured Query Language) used to define and manage the structure of a database and its objects. DDL statements are responsible for creating, altering, and dropping database objects such as tables, views, indexes, and constraints.\n",
    "\n",
    "CREATE: The CREATE statement is used to create new database objects, such as tables, views, indexes, and more. It specifies the name, structure, and properties of the object to be created. Here's an example of creating a table:\n",
    "\n",
    "CREATE TABLE Customers (\n",
    "    id INT PRIMARY KEY,\n",
    "    name VARCHAR(100),\n",
    "    email VARCHAR(255),\n",
    "    age INT\n",
    ");\n",
    "\n",
    "DROP: The DROP statement is used to remove an existing database object, such as a table or view, from the database. It permanently deletes the object and its associated data. Here's an example of dropping a table:\n",
    "\n",
    "DROP TABLE Customers;\n",
    "\n",
    "ALTER: The ALTER statement is used to modify the structure of an existing database object. It allows you to add, modify, or delete columns, constraints, or other properties of the object. Here's an example of altering a table by adding a new column:\n",
    "\n",
    "ALTER TABLE Customers\n",
    "ADD COLUMN address VARCHAR(255);\n",
    "\n",
    "TRUNCATE:\n",
    "The TRUNCATE statement is used to remove all the data from an existing table, but it does not delete the table structure itself. It provides a quick way to delete all rows from a table. Here's an example of truncating a table:\n",
    "\n",
    "TRUNCATE TABLE Customers;"
   ]
  },
  {
   "cell_type": "markdown",
   "id": "f1ecab44-5fd3-4455-bd3c-6b7519312e01",
   "metadata": {},
   "source": [
    "Q3. What is DML? Explain INSERT, UPDATE, and DELETE with an example."
   ]
  },
  {
   "cell_type": "markdown",
   "id": "8caf3604-83b5-4683-b839-eaca69b7e3bb",
   "metadata": {},
   "source": [
    "DML stands for Data Manipulation Language. It is a subset of SQL (Structured Query Language) used to interact with the data stored in a database. DML statements are responsible for inserting, updating, and deleting data within database tables."
   ]
  },
  {
   "cell_type": "markdown",
   "id": "c40df1b4-e50f-4b1e-839d-09c6a0f132d8",
   "metadata": {},
   "source": [
    "INSERT: The INSERT statement is used to insert new data into a table. It allows you to add one or more rows of data into the specified table. Here's an example of inserting data into a table:"
   ]
  },
  {
   "cell_type": "raw",
   "id": "d312a3a5-5400-47cc-ab6b-974429f11694",
   "metadata": {},
   "source": [
    "INSERT INTO Customers (id, name, email, age)\n",
    "VALUES (1, 'John Doe', 'johndoe@example.com', 30);"
   ]
  },
  {
   "cell_type": "markdown",
   "id": "be5af429-7f62-4cc5-a311-9a9320acecba",
   "metadata": {},
   "source": [
    "UPDATE:\n",
    "The UPDATE statement is used to modify existing data in a table. It allows you to change the values of one or more columns in one or more rows of a table. Here's an example of updating data in a table:"
   ]
  },
  {
   "cell_type": "raw",
   "id": "ce91c7b3-60bd-4915-8c28-a295369ec7fe",
   "metadata": {
    "tags": []
   },
   "source": [
    "UPDATE Customers\n",
    "SET email = 'newemail@example.com'\n",
    "WHERE id = 1;"
   ]
  },
  {
   "cell_type": "markdown",
   "id": "6833686e-524e-4216-97bb-e9c8cc566938",
   "metadata": {},
   "source": [
    "DELETE: The DELETE statement is used to remove one or more rows from a table. It allows you to delete specific rows that meet certain conditions. Here's an example of deleting data from a table:"
   ]
  },
  {
   "cell_type": "raw",
   "id": "c847d385-ddfc-47ce-bd61-dde3714d3cae",
   "metadata": {},
   "source": [
    "DELETE FROM Customers\n",
    "WHERE age > 50;"
   ]
  },
  {
   "cell_type": "markdown",
   "id": "f1a7cd24-5bc7-4111-905a-a7ae248cfead",
   "metadata": {},
   "source": [
    "Q4. What is DQL? Explain SELECT with an example."
   ]
  },
  {
   "cell_type": "markdown",
   "id": "c5bf9856-c405-4ce1-a696-b179df43ff00",
   "metadata": {},
   "source": [
    "DQL stands for Data Query Language. It is a subset of SQL (Structured Query Language) used to retrieve and query data from a database. DQL statements, primarily the SELECT statement, are used to fetch data from database tables and views.\n",
    "\n",
    "SELECT: The SELECT statement is used to retrieve data from one or more tables or views in a database. It allows you to specify the columns you want to retrieve, apply filters, sort the result set, and perform various other operations on the data. Here's an example of a basic SELECT statement:\n"
   ]
  },
  {
   "cell_type": "raw",
   "id": "ee5aad86-f3f1-46fb-8f24-419885850942",
   "metadata": {},
   "source": [
    "SELECT column1, column2\n",
    "FROM table_name;"
   ]
  },
  {
   "cell_type": "markdown",
   "id": "d49f91d1-3325-44ed-b88e-c6eacdb906f0",
   "metadata": {},
   "source": [
    "Q5. Explain Primary Key and Foreign Key."
   ]
  },
  {
   "cell_type": "markdown",
   "id": "6ee090f8-46d6-47e3-8f1c-8966f6473d46",
   "metadata": {},
   "source": [
    "Primary Key: A primary key is a column or a set of columns in a database table that uniquely identifies each row or record in that table. It provides a way to ensure data integrity and enforce uniqueness in a table.\n",
    "\n",
    "Foreign Key: A foreign key is a column or a set of columns in a database table that refers to the primary key of another table. It establishes a relationship between two tables, creating a link between them."
   ]
  },
  {
   "cell_type": "markdown",
   "id": "0eaede90-dab6-4c8d-823f-7e626b022d89",
   "metadata": {},
   "source": [
    "Q6. Write a python code to connect MySQL to python. Explain the cursor() and execute() method."
   ]
  },
  {
   "cell_type": "code",
   "execution_count": null,
   "id": "daf66c92-967e-4434-bbfc-b5fe4bbd2c22",
   "metadata": {},
   "outputs": [],
   "source": [
    "import mysql.connector as connector\n",
    "\n",
    "conn = connector.connect(\n",
    "host = \"localhost\",\n",
    "user = \"abc\",\n",
    "password = \"password\")\n",
    "\n",
    "mycursor = conn.cursor()"
   ]
  },
  {
   "cell_type": "markdown",
   "id": "aff330c9-dff4-460e-84ad-7eaa1b911d2c",
   "metadata": {},
   "source": [
    "The cursor() method creates a cursor object, which allows you to execute SQL queries and fetch the results.\n",
    "\n",
    "The execute() method is used to execute SQL queries. You can pass the SQL query as a string parameter to this method. It performs the query on the database associated with the cursor object."
   ]
  },
  {
   "cell_type": "markdown",
   "id": "07909d46-f5fd-461a-b2e8-1271563a173e",
   "metadata": {},
   "source": [
    "Q7. Give the order of execution of SQL clauses in an SQL query."
   ]
  },
  {
   "cell_type": "raw",
   "id": "208107b0-88b6-4e0a-bc36-0ccbcf90a672",
   "metadata": {},
   "source": [
    "In an SQL query, the clauses are generally executed in the following order:\n",
    "\n",
    "SELECT: The SELECT clause specifies the columns to be retrieved from the table(s) and applies any necessary transformations or calculations on the data.\n",
    "\n",
    "FROM: The FROM clause specifies the table(s) from which the data is retrieved.\n",
    "\n",
    "WHERE: The WHERE clause filters the rows based on specific conditions.\n",
    "\n",
    "GROUP BY: The GROUP BY clause groups the result set based on one or more columns.\n",
    "\n",
    "HAVING: The HAVING clause filters the grouped result set based on conditions.\n",
    "\n",
    "ORDER BY: The ORDER BY clause sorts the result set based on one or more columns. It allows sorting in ascending (ASC) or descending (DESC) order.\n",
    "\n",
    "LIMIT/OFFSET: The LIMIT/OFFSET clause restricts the number of rows returned by the query. It is commonly used for pagination or fetching a specific number of rows."
   ]
  }
 ],
 "metadata": {
  "kernelspec": {
   "display_name": "Python 3 (ipykernel)",
   "language": "python",
   "name": "python3"
  },
  "language_info": {
   "codemirror_mode": {
    "name": "ipython",
    "version": 3
   },
   "file_extension": ".py",
   "mimetype": "text/x-python",
   "name": "python",
   "nbconvert_exporter": "python",
   "pygments_lexer": "ipython3",
   "version": "3.10.8"
  }
 },
 "nbformat": 4,
 "nbformat_minor": 5
}
